{
 "cells": [
  {
   "cell_type": "code",
   "execution_count": 38,
   "metadata": {},
   "outputs": [],
   "source": [
    "import pandas as pd"
   ]
  },
  {
   "cell_type": "code",
   "execution_count": 39,
   "metadata": {},
   "outputs": [
    {
     "data": {
      "text/html": [
       "<div>\n",
       "<style scoped>\n",
       "    .dataframe tbody tr th:only-of-type {\n",
       "        vertical-align: middle;\n",
       "    }\n",
       "\n",
       "    .dataframe tbody tr th {\n",
       "        vertical-align: top;\n",
       "    }\n",
       "\n",
       "    .dataframe thead th {\n",
       "        text-align: right;\n",
       "    }\n",
       "</style>\n",
       "<table border=\"1\" class=\"dataframe\">\n",
       "  <thead>\n",
       "    <tr style=\"text-align: right;\">\n",
       "      <th></th>\n",
       "      <th>Salary</th>\n",
       "      <th>Ht</th>\n",
       "      <th>Wt</th>\n",
       "      <th>DftYr</th>\n",
       "      <th>DftRd</th>\n",
       "      <th>Ovrl</th>\n",
       "      <th>Debut</th>\n",
       "      <th>Age</th>\n",
       "      <th>Seasons</th>\n",
       "      <th>NHLid</th>\n",
       "      <th>...</th>\n",
       "      <th>C-G</th>\n",
       "      <th>C-A</th>\n",
       "      <th>C-PTS</th>\n",
       "      <th>C-+/-</th>\n",
       "      <th>C-PIM</th>\n",
       "      <th>C-Shot</th>\n",
       "      <th>C-TOI</th>\n",
       "      <th>C-OPS</th>\n",
       "      <th>C-DPS</th>\n",
       "      <th>C-PS</th>\n",
       "    </tr>\n",
       "  </thead>\n",
       "  <tbody>\n",
       "    <tr>\n",
       "      <th>count</th>\n",
       "      <td>8.810000e+02</td>\n",
       "      <td>890.000000</td>\n",
       "      <td>890.000000</td>\n",
       "      <td>762.000000</td>\n",
       "      <td>762.000000</td>\n",
       "      <td>762.000000</td>\n",
       "      <td>890.000000</td>\n",
       "      <td>890.000000</td>\n",
       "      <td>890.000000</td>\n",
       "      <td>8.900000e+02</td>\n",
       "      <td>...</td>\n",
       "      <td>890.000000</td>\n",
       "      <td>890.000000</td>\n",
       "      <td>890.000000</td>\n",
       "      <td>890.000000</td>\n",
       "      <td>890.000000</td>\n",
       "      <td>890.000000</td>\n",
       "      <td>890.000000</td>\n",
       "      <td>890.000000</td>\n",
       "      <td>890.000000</td>\n",
       "      <td>890.000000</td>\n",
       "    </tr>\n",
       "    <tr>\n",
       "      <th>mean</th>\n",
       "      <td>2.442917e+06</td>\n",
       "      <td>73.008989</td>\n",
       "      <td>199.652809</td>\n",
       "      <td>2009.586614</td>\n",
       "      <td>2.751969</td>\n",
       "      <td>68.624672</td>\n",
       "      <td>2014.370787</td>\n",
       "      <td>26.082022</td>\n",
       "      <td>5.710112</td>\n",
       "      <td>8.475572e+06</td>\n",
       "      <td>...</td>\n",
       "      <td>56.729213</td>\n",
       "      <td>93.922472</td>\n",
       "      <td>150.651685</td>\n",
       "      <td>4.942697</td>\n",
       "      <td>176.382022</td>\n",
       "      <td>596.356180</td>\n",
       "      <td>5493.434831</td>\n",
       "      <td>10.593258</td>\n",
       "      <td>8.653933</td>\n",
       "      <td>19.257303</td>\n",
       "    </tr>\n",
       "    <tr>\n",
       "      <th>std</th>\n",
       "      <td>2.441001e+06</td>\n",
       "      <td>2.139649</td>\n",
       "      <td>15.452955</td>\n",
       "      <td>4.340438</td>\n",
       "      <td>1.988179</td>\n",
       "      <td>63.039031</td>\n",
       "      <td>67.276185</td>\n",
       "      <td>4.335613</td>\n",
       "      <td>4.178956</td>\n",
       "      <td>3.025251e+03</td>\n",
       "      <td>...</td>\n",
       "      <td>84.300641</td>\n",
       "      <td>129.025602</td>\n",
       "      <td>207.592315</td>\n",
       "      <td>40.279592</td>\n",
       "      <td>239.589807</td>\n",
       "      <td>733.706995</td>\n",
       "      <td>5883.308154</td>\n",
       "      <td>18.373293</td>\n",
       "      <td>11.244767</td>\n",
       "      <td>26.382666</td>\n",
       "    </tr>\n",
       "    <tr>\n",
       "      <th>min</th>\n",
       "      <td>6.500000e+05</td>\n",
       "      <td>64.000000</td>\n",
       "      <td>154.000000</td>\n",
       "      <td>1990.000000</td>\n",
       "      <td>1.000000</td>\n",
       "      <td>1.000000</td>\n",
       "      <td>1990.000000</td>\n",
       "      <td>18.000000</td>\n",
       "      <td>1.000000</td>\n",
       "      <td>8.448208e+06</td>\n",
       "      <td>...</td>\n",
       "      <td>0.000000</td>\n",
       "      <td>0.000000</td>\n",
       "      <td>0.000000</td>\n",
       "      <td>-109.000000</td>\n",
       "      <td>0.000000</td>\n",
       "      <td>0.000000</td>\n",
       "      <td>3.000000</td>\n",
       "      <td>-5.000000</td>\n",
       "      <td>0.000000</td>\n",
       "      <td>-2.000000</td>\n",
       "    </tr>\n",
       "    <tr>\n",
       "      <th>25%</th>\n",
       "      <td>7.425000e+05</td>\n",
       "      <td>72.000000</td>\n",
       "      <td>189.250000</td>\n",
       "      <td>2007.000000</td>\n",
       "      <td>1.000000</td>\n",
       "      <td>17.000000</td>\n",
       "      <td>2009.000000</td>\n",
       "      <td>23.000000</td>\n",
       "      <td>2.000000</td>\n",
       "      <td>8.474158e+06</td>\n",
       "      <td>...</td>\n",
       "      <td>5.000000</td>\n",
       "      <td>10.000000</td>\n",
       "      <td>14.250000</td>\n",
       "      <td>-11.000000</td>\n",
       "      <td>20.000000</td>\n",
       "      <td>80.250000</td>\n",
       "      <td>894.250000</td>\n",
       "      <td>0.000000</td>\n",
       "      <td>1.000000</td>\n",
       "      <td>1.000000</td>\n",
       "    </tr>\n",
       "    <tr>\n",
       "      <th>50%</th>\n",
       "      <td>9.250000e+05</td>\n",
       "      <td>73.000000</td>\n",
       "      <td>200.000000</td>\n",
       "      <td>2010.000000</td>\n",
       "      <td>2.000000</td>\n",
       "      <td>48.000000</td>\n",
       "      <td>2013.000000</td>\n",
       "      <td>25.000000</td>\n",
       "      <td>5.000000</td>\n",
       "      <td>8.476378e+06</td>\n",
       "      <td>...</td>\n",
       "      <td>22.500000</td>\n",
       "      <td>42.000000</td>\n",
       "      <td>65.000000</td>\n",
       "      <td>0.000000</td>\n",
       "      <td>81.000000</td>\n",
       "      <td>300.000000</td>\n",
       "      <td>3304.500000</td>\n",
       "      <td>2.000000</td>\n",
       "      <td>4.000000</td>\n",
       "      <td>8.000000</td>\n",
       "    </tr>\n",
       "    <tr>\n",
       "      <th>75%</th>\n",
       "      <td>4.000000e+06</td>\n",
       "      <td>74.000000</td>\n",
       "      <td>210.000000</td>\n",
       "      <td>2013.000000</td>\n",
       "      <td>4.000000</td>\n",
       "      <td>107.000000</td>\n",
       "      <td>2016.000000</td>\n",
       "      <td>29.000000</td>\n",
       "      <td>8.000000</td>\n",
       "      <td>8.477502e+06</td>\n",
       "      <td>...</td>\n",
       "      <td>74.750000</td>\n",
       "      <td>129.500000</td>\n",
       "      <td>212.000000</td>\n",
       "      <td>13.000000</td>\n",
       "      <td>235.500000</td>\n",
       "      <td>852.250000</td>\n",
       "      <td>8316.000000</td>\n",
       "      <td>14.000000</td>\n",
       "      <td>12.000000</td>\n",
       "      <td>28.000000</td>\n",
       "    </tr>\n",
       "    <tr>\n",
       "      <th>max</th>\n",
       "      <td>1.380000e+07</td>\n",
       "      <td>81.000000</td>\n",
       "      <td>260.000000</td>\n",
       "      <td>2017.000000</td>\n",
       "      <td>9.000000</td>\n",
       "      <td>291.000000</td>\n",
       "      <td>4015.000000</td>\n",
       "      <td>45.000000</td>\n",
       "      <td>24.000000</td>\n",
       "      <td>8.480771e+06</td>\n",
       "      <td>...</td>\n",
       "      <td>766.000000</td>\n",
       "      <td>1155.000000</td>\n",
       "      <td>1921.000000</td>\n",
       "      <td>322.000000</td>\n",
       "      <td>1839.000000</td>\n",
       "      <td>5637.000000</td>\n",
       "      <td>34197.000000</td>\n",
       "      <td>175.000000</td>\n",
       "      <td>89.000000</td>\n",
       "      <td>217.000000</td>\n",
       "    </tr>\n",
       "  </tbody>\n",
       "</table>\n",
       "<p>8 rows × 177 columns</p>\n",
       "</div>"
      ],
      "text/plain": [
       "             Salary          Ht          Wt        DftYr       DftRd  \\\n",
       "count  8.810000e+02  890.000000  890.000000   762.000000  762.000000   \n",
       "mean   2.442917e+06   73.008989  199.652809  2009.586614    2.751969   \n",
       "std    2.441001e+06    2.139649   15.452955     4.340438    1.988179   \n",
       "min    6.500000e+05   64.000000  154.000000  1990.000000    1.000000   \n",
       "25%    7.425000e+05   72.000000  189.250000  2007.000000    1.000000   \n",
       "50%    9.250000e+05   73.000000  200.000000  2010.000000    2.000000   \n",
       "75%    4.000000e+06   74.000000  210.000000  2013.000000    4.000000   \n",
       "max    1.380000e+07   81.000000  260.000000  2017.000000    9.000000   \n",
       "\n",
       "             Ovrl        Debut         Age     Seasons         NHLid  \\\n",
       "count  762.000000   890.000000  890.000000  890.000000  8.900000e+02   \n",
       "mean    68.624672  2014.370787   26.082022    5.710112  8.475572e+06   \n",
       "std     63.039031    67.276185    4.335613    4.178956  3.025251e+03   \n",
       "min      1.000000  1990.000000   18.000000    1.000000  8.448208e+06   \n",
       "25%     17.000000  2009.000000   23.000000    2.000000  8.474158e+06   \n",
       "50%     48.000000  2013.000000   25.000000    5.000000  8.476378e+06   \n",
       "75%    107.000000  2016.000000   29.000000    8.000000  8.477502e+06   \n",
       "max    291.000000  4015.000000   45.000000   24.000000  8.480771e+06   \n",
       "\n",
       "          ...             C-G          C-A        C-PTS       C-+/-  \\\n",
       "count     ...      890.000000   890.000000   890.000000  890.000000   \n",
       "mean      ...       56.729213    93.922472   150.651685    4.942697   \n",
       "std       ...       84.300641   129.025602   207.592315   40.279592   \n",
       "min       ...        0.000000     0.000000     0.000000 -109.000000   \n",
       "25%       ...        5.000000    10.000000    14.250000  -11.000000   \n",
       "50%       ...       22.500000    42.000000    65.000000    0.000000   \n",
       "75%       ...       74.750000   129.500000   212.000000   13.000000   \n",
       "max       ...      766.000000  1155.000000  1921.000000  322.000000   \n",
       "\n",
       "             C-PIM       C-Shot         C-TOI       C-OPS       C-DPS  \\\n",
       "count   890.000000   890.000000    890.000000  890.000000  890.000000   \n",
       "mean    176.382022   596.356180   5493.434831   10.593258    8.653933   \n",
       "std     239.589807   733.706995   5883.308154   18.373293   11.244767   \n",
       "min       0.000000     0.000000      3.000000   -5.000000    0.000000   \n",
       "25%      20.000000    80.250000    894.250000    0.000000    1.000000   \n",
       "50%      81.000000   300.000000   3304.500000    2.000000    4.000000   \n",
       "75%     235.500000   852.250000   8316.000000   14.000000   12.000000   \n",
       "max    1839.000000  5637.000000  34197.000000  175.000000   89.000000   \n",
       "\n",
       "             C-PS  \n",
       "count  890.000000  \n",
       "mean    19.257303  \n",
       "std     26.382666  \n",
       "min     -2.000000  \n",
       "25%      1.000000  \n",
       "50%      8.000000  \n",
       "75%     28.000000  \n",
       "max    217.000000  \n",
       "\n",
       "[8 rows x 177 columns]"
      ]
     },
     "execution_count": 39,
     "metadata": {},
     "output_type": "execute_result"
    }
   ],
   "source": [
    "# save filepath to variable for easier access\n",
    "nhl_file_path = 'nhl_data.csv'\n",
    "# read the data and store data in DataFrame titled nhl_data\n",
    "nhl_data = pd.read_csv(nhl_file_path) \n",
    "# print a summary of the data in nhl data\n",
    "nhl_data.describe()"
   ]
  },
  {
   "cell_type": "code",
   "execution_count": 40,
   "metadata": {},
   "outputs": [
    {
     "data": {
      "text/plain": [
       "Index(['Salary', 'Nat', 'Ht', 'Wt', 'DftYr', 'DftRd', 'Ovrl', 'Hand', 'Debut',\n",
       "       'Age',\n",
       "       ...\n",
       "       'C-G', 'C-A', 'C-PTS', 'C-+/-', 'C-PIM', 'C-Shot', 'C-TOI', 'C-OPS',\n",
       "       'C-DPS', 'C-PS'],\n",
       "      dtype='object', length=200)"
      ]
     },
     "execution_count": 40,
     "metadata": {},
     "output_type": "execute_result"
    }
   ],
   "source": [
    "nhl_data.columns"
   ]
  },
  {
   "cell_type": "code",
   "execution_count": 41,
   "metadata": {},
   "outputs": [],
   "source": [
    "# The Melbourne data has some missing values (some houses for which some variables weren't recorded.)\n",
    "# We'll learn to handle missing values in a later tutorial.  \n",
    "# Your Iowa data doesn't have missing values in the columns you use. \n",
    "# So we will take the simplest option for now, and drop houses from our data. \n",
    "# Don't worry about this much for now, though the code is:\n",
    "\n",
    "# dropna drops missing values (think of na as \"not available\")\n",
    "nhl_data = nhl_data.dropna(axis=0)"
   ]
  },
  {
   "cell_type": "code",
   "execution_count": 42,
   "metadata": {},
   "outputs": [],
   "source": [
    "y = nhl_data.Salary"
   ]
  },
  {
   "cell_type": "code",
   "execution_count": 62,
   "metadata": {},
   "outputs": [],
   "source": [
    "# Ovrl = overall draft position\n",
    "# PTS/GP = points per game played \n",
    "# TOI/GP = time on ice per game played - this is crucial and shows the value of a player\n",
    "# TOff/60 = total offence every hour\n",
    "# C-PTS = career points\n",
    "# PTS = Season points\n",
    "# Star = player of the game stars?\n",
    "nhl_features = ['Ovrl', 'Age', 'PTS/GP', 'TOI/GP', 'TOff/60', 'C-PTS', 'PTS', 'Star']\n",
    "# nhl_features = ['TOI/GP']"
   ]
  },
  {
   "cell_type": "code",
   "execution_count": 63,
   "metadata": {},
   "outputs": [],
   "source": [
    "X = nhl_data[nhl_features]"
   ]
  },
  {
   "cell_type": "code",
   "execution_count": 64,
   "metadata": {},
   "outputs": [
    {
     "data": {
      "text/html": [
       "<div>\n",
       "<style scoped>\n",
       "    .dataframe tbody tr th:only-of-type {\n",
       "        vertical-align: middle;\n",
       "    }\n",
       "\n",
       "    .dataframe tbody tr th {\n",
       "        vertical-align: top;\n",
       "    }\n",
       "\n",
       "    .dataframe thead th {\n",
       "        text-align: right;\n",
       "    }\n",
       "</style>\n",
       "<table border=\"1\" class=\"dataframe\">\n",
       "  <thead>\n",
       "    <tr style=\"text-align: right;\">\n",
       "      <th></th>\n",
       "      <th>Ovrl</th>\n",
       "      <th>Age</th>\n",
       "      <th>PTS/GP</th>\n",
       "      <th>TOI/GP</th>\n",
       "      <th>TOff/60</th>\n",
       "      <th>C-PTS</th>\n",
       "      <th>PTS</th>\n",
       "      <th>Star</th>\n",
       "    </tr>\n",
       "  </thead>\n",
       "  <tbody>\n",
       "    <tr>\n",
       "      <th>count</th>\n",
       "      <td>36.000000</td>\n",
       "      <td>36.000000</td>\n",
       "      <td>36.000000</td>\n",
       "      <td>36.000000</td>\n",
       "      <td>36.000000</td>\n",
       "      <td>36.00000</td>\n",
       "      <td>36.000000</td>\n",
       "      <td>36.000000</td>\n",
       "    </tr>\n",
       "    <tr>\n",
       "      <th>mean</th>\n",
       "      <td>41.250000</td>\n",
       "      <td>29.777778</td>\n",
       "      <td>0.644444</td>\n",
       "      <td>18.060556</td>\n",
       "      <td>26.855556</td>\n",
       "      <td>467.25000</td>\n",
       "      <td>44.333333</td>\n",
       "      <td>5.250000</td>\n",
       "    </tr>\n",
       "    <tr>\n",
       "      <th>std</th>\n",
       "      <td>42.702543</td>\n",
       "      <td>3.108616</td>\n",
       "      <td>0.261364</td>\n",
       "      <td>2.571763</td>\n",
       "      <td>6.767377</td>\n",
       "      <td>242.39111</td>\n",
       "      <td>19.665779</td>\n",
       "      <td>3.417392</td>\n",
       "    </tr>\n",
       "    <tr>\n",
       "      <th>min</th>\n",
       "      <td>1.000000</td>\n",
       "      <td>23.000000</td>\n",
       "      <td>0.230000</td>\n",
       "      <td>13.010000</td>\n",
       "      <td>14.700000</td>\n",
       "      <td>38.00000</td>\n",
       "      <td>12.000000</td>\n",
       "      <td>1.000000</td>\n",
       "    </tr>\n",
       "    <tr>\n",
       "      <th>25%</th>\n",
       "      <td>5.500000</td>\n",
       "      <td>28.000000</td>\n",
       "      <td>0.445000</td>\n",
       "      <td>16.730000</td>\n",
       "      <td>20.550000</td>\n",
       "      <td>305.50000</td>\n",
       "      <td>31.750000</td>\n",
       "      <td>3.000000</td>\n",
       "    </tr>\n",
       "    <tr>\n",
       "      <th>50%</th>\n",
       "      <td>28.000000</td>\n",
       "      <td>30.000000</td>\n",
       "      <td>0.630000</td>\n",
       "      <td>17.795000</td>\n",
       "      <td>28.100000</td>\n",
       "      <td>436.00000</td>\n",
       "      <td>44.000000</td>\n",
       "      <td>4.500000</td>\n",
       "    </tr>\n",
       "    <tr>\n",
       "      <th>75%</th>\n",
       "      <td>60.250000</td>\n",
       "      <td>32.000000</td>\n",
       "      <td>0.727500</td>\n",
       "      <td>18.960000</td>\n",
       "      <td>32.400000</td>\n",
       "      <td>669.00000</td>\n",
       "      <td>54.250000</td>\n",
       "      <td>7.000000</td>\n",
       "    </tr>\n",
       "    <tr>\n",
       "      <th>max</th>\n",
       "      <td>157.000000</td>\n",
       "      <td>37.000000</td>\n",
       "      <td>1.250000</td>\n",
       "      <td>24.550000</td>\n",
       "      <td>38.600000</td>\n",
       "      <td>1041.00000</td>\n",
       "      <td>93.000000</td>\n",
       "      <td>17.000000</td>\n",
       "    </tr>\n",
       "  </tbody>\n",
       "</table>\n",
       "</div>"
      ],
      "text/plain": [
       "             Ovrl        Age     PTS/GP     TOI/GP    TOff/60       C-PTS  \\\n",
       "count   36.000000  36.000000  36.000000  36.000000  36.000000    36.00000   \n",
       "mean    41.250000  29.777778   0.644444  18.060556  26.855556   467.25000   \n",
       "std     42.702543   3.108616   0.261364   2.571763   6.767377   242.39111   \n",
       "min      1.000000  23.000000   0.230000  13.010000  14.700000    38.00000   \n",
       "25%      5.500000  28.000000   0.445000  16.730000  20.550000   305.50000   \n",
       "50%     28.000000  30.000000   0.630000  17.795000  28.100000   436.00000   \n",
       "75%     60.250000  32.000000   0.727500  18.960000  32.400000   669.00000   \n",
       "max    157.000000  37.000000   1.250000  24.550000  38.600000  1041.00000   \n",
       "\n",
       "             PTS       Star  \n",
       "count  36.000000  36.000000  \n",
       "mean   44.333333   5.250000  \n",
       "std    19.665779   3.417392  \n",
       "min    12.000000   1.000000  \n",
       "25%    31.750000   3.000000  \n",
       "50%    44.000000   4.500000  \n",
       "75%    54.250000   7.000000  \n",
       "max    93.000000  17.000000  "
      ]
     },
     "execution_count": 64,
     "metadata": {},
     "output_type": "execute_result"
    }
   ],
   "source": [
    "X.describe()"
   ]
  },
  {
   "cell_type": "code",
   "execution_count": 65,
   "metadata": {},
   "outputs": [
    {
     "data": {
      "text/html": [
       "<div>\n",
       "<style scoped>\n",
       "    .dataframe tbody tr th:only-of-type {\n",
       "        vertical-align: middle;\n",
       "    }\n",
       "\n",
       "    .dataframe tbody tr th {\n",
       "        vertical-align: top;\n",
       "    }\n",
       "\n",
       "    .dataframe thead th {\n",
       "        text-align: right;\n",
       "    }\n",
       "</style>\n",
       "<table border=\"1\" class=\"dataframe\">\n",
       "  <thead>\n",
       "    <tr style=\"text-align: right;\">\n",
       "      <th></th>\n",
       "      <th>Ovrl</th>\n",
       "      <th>Age</th>\n",
       "      <th>PTS/GP</th>\n",
       "      <th>TOI/GP</th>\n",
       "      <th>TOff/60</th>\n",
       "      <th>C-PTS</th>\n",
       "      <th>PTS</th>\n",
       "      <th>Star</th>\n",
       "    </tr>\n",
       "  </thead>\n",
       "  <tbody>\n",
       "    <tr>\n",
       "      <th>27</th>\n",
       "      <td>11.0</td>\n",
       "      <td>33</td>\n",
       "      <td>0.81</td>\n",
       "      <td>17.84</td>\n",
       "      <td>30.5</td>\n",
       "      <td>672</td>\n",
       "      <td>22</td>\n",
       "      <td>4</td>\n",
       "    </tr>\n",
       "    <tr>\n",
       "      <th>31</th>\n",
       "      <td>17.0</td>\n",
       "      <td>33</td>\n",
       "      <td>0.57</td>\n",
       "      <td>17.08</td>\n",
       "      <td>21.3</td>\n",
       "      <td>685</td>\n",
       "      <td>24</td>\n",
       "      <td>3</td>\n",
       "    </tr>\n",
       "    <tr>\n",
       "      <th>33</th>\n",
       "      <td>19.0</td>\n",
       "      <td>32</td>\n",
       "      <td>1.09</td>\n",
       "      <td>21.43</td>\n",
       "      <td>38.6</td>\n",
       "      <td>875</td>\n",
       "      <td>61</td>\n",
       "      <td>7</td>\n",
       "    </tr>\n",
       "    <tr>\n",
       "      <th>37</th>\n",
       "      <td>156.0</td>\n",
       "      <td>28</td>\n",
       "      <td>0.61</td>\n",
       "      <td>24.55</td>\n",
       "      <td>19.1</td>\n",
       "      <td>205</td>\n",
       "      <td>37</td>\n",
       "      <td>4</td>\n",
       "    </tr>\n",
       "    <tr>\n",
       "      <th>46</th>\n",
       "      <td>45.0</td>\n",
       "      <td>32</td>\n",
       "      <td>0.98</td>\n",
       "      <td>19.44</td>\n",
       "      <td>33.5</td>\n",
       "      <td>734</td>\n",
       "      <td>63</td>\n",
       "      <td>10</td>\n",
       "    </tr>\n",
       "  </tbody>\n",
       "</table>\n",
       "</div>"
      ],
      "text/plain": [
       "     Ovrl  Age  PTS/GP  TOI/GP  TOff/60  C-PTS  PTS  Star\n",
       "27   11.0   33    0.81   17.84     30.5    672   22     4\n",
       "31   17.0   33    0.57   17.08     21.3    685   24     3\n",
       "33   19.0   32    1.09   21.43     38.6    875   61     7\n",
       "37  156.0   28    0.61   24.55     19.1    205   37     4\n",
       "46   45.0   32    0.98   19.44     33.5    734   63    10"
      ]
     },
     "execution_count": 65,
     "metadata": {},
     "output_type": "execute_result"
    }
   ],
   "source": [
    "X.head()"
   ]
  },
  {
   "cell_type": "code",
   "execution_count": 66,
   "metadata": {},
   "outputs": [
    {
     "data": {
      "text/plain": [
       "DecisionTreeRegressor(criterion='mse', max_depth=None, max_features=None,\n",
       "           max_leaf_nodes=None, min_impurity_decrease=0.0,\n",
       "           min_impurity_split=None, min_samples_leaf=1,\n",
       "           min_samples_split=2, min_weight_fraction_leaf=0.0,\n",
       "           presort=False, random_state=1, splitter='best')"
      ]
     },
     "execution_count": 66,
     "metadata": {},
     "output_type": "execute_result"
    }
   ],
   "source": [
    "from sklearn.tree import DecisionTreeRegressor\n",
    "\n",
    "# Define model. Specify a number for random_state to ensure same results each run\n",
    "nhl_model = DecisionTreeRegressor(random_state=1)\n",
    "\n",
    "# Fit model\n",
    "nhl_model.fit(X, y)"
   ]
  },
  {
   "cell_type": "code",
   "execution_count": 67,
   "metadata": {},
   "outputs": [
    {
     "name": "stdout",
     "output_type": "stream",
     "text": [
      "Making predictions for the following 5 players:\n",
      "     Ovrl  Age  PTS/GP  TOI/GP  TOff/60  C-PTS  PTS  Star\n",
      "27   11.0   33    0.81   17.84     30.5    672   22     4\n",
      "31   17.0   33    0.57   17.08     21.3    685   24     3\n",
      "33   19.0   32    1.09   21.43     38.6    875   61     7\n",
      "37  156.0   28    0.61   24.55     19.1    205   37     4\n",
      "46   45.0   32    0.98   19.44     33.5    734   63    10\n",
      "The predictions are\n",
      "[6500000. 9000000. 9025000. 5500000. 8750000.]\n"
     ]
    }
   ],
   "source": [
    "print(\"Making predictions for the following 5 players:\")\n",
    "print(X.head())\n",
    "print(\"The predictions are\")\n",
    "print(nhl_model.predict(X.head()))"
   ]
  },
  {
   "cell_type": "code",
   "execution_count": 68,
   "metadata": {},
   "outputs": [
    {
     "data": {
      "text/plain": [
       "0.0"
      ]
     },
     "execution_count": 68,
     "metadata": {},
     "output_type": "execute_result"
    }
   ],
   "source": [
    "from sklearn.metrics import mean_absolute_error\n",
    "\n",
    "predicted_salary = nhl_model.predict(X)\n",
    "mean_absolute_error(y, predicted_salary)"
   ]
  },
  {
   "cell_type": "code",
   "execution_count": 69,
   "metadata": {},
   "outputs": [
    {
     "name": "stdout",
     "output_type": "stream",
     "text": [
      "2241666.6666666665\n"
     ]
    }
   ],
   "source": [
    "from sklearn.model_selection import train_test_split\n",
    "\n",
    "# split data into training and validation data, for both features and target\n",
    "# The split is based on a random number generator. Supplying a numeric value to\n",
    "# the random_state argument guarantees we get the same split every time we\n",
    "# run this script.\n",
    "train_X, val_X, train_y, val_y = train_test_split(X, y, random_state = 0)\n",
    "# Define model\n",
    "nhl_model = DecisionTreeRegressor()\n",
    "# Fit model\n",
    "nhl_model.fit(train_X, train_y)\n",
    "\n",
    "# get predicted prices on validation data\n",
    "val_predictions = nhl_model.predict(val_X)\n",
    "print(mean_absolute_error(val_y, val_predictions))"
   ]
  },
  {
   "cell_type": "code",
   "execution_count": 71,
   "metadata": {},
   "outputs": [
    {
     "name": "stdout",
     "output_type": "stream",
     "text": [
      "[ 925000. 6500000. 3750000. 7500000. 7000000.]\n"
     ]
    }
   ],
   "source": [
    "# print the top few validation predictions\n",
    "print(nhl_model.predict(val_X.head()))"
   ]
  },
  {
   "cell_type": "code",
   "execution_count": 72,
   "metadata": {},
   "outputs": [
    {
     "name": "stdout",
     "output_type": "stream",
     "text": [
      "     Ovrl  Age  PTS/GP  TOI/GP  TOff/60  C-PTS  PTS  Star\n",
      "27   11.0   33    0.81   17.84     30.5    672   22     4\n",
      "31   17.0   33    0.57   17.08     21.3    685   24     3\n",
      "33   19.0   32    1.09   21.43     38.6    875   61     7\n",
      "37  156.0   28    0.61   24.55     19.1    205   37     4\n",
      "46   45.0   32    0.98   19.44     33.5    734   63    10\n"
     ]
    }
   ],
   "source": [
    "# print the top few actual prices from validation data\n",
    "print(X.head())"
   ]
  },
  {
   "cell_type": "code",
   "execution_count": 73,
   "metadata": {},
   "outputs": [],
   "source": [
    "# underfitting/ overfitting\n",
    "# compore mae scores from different value for max leaf nodes\n",
    "\n",
    "from sklearn.metrics import mean_absolute_error\n",
    "from sklearn.tree import DecisionTreeRegressor\n",
    "\n",
    "def get_mae(max_leaf_nodes, train_X, val_X, train_y, val_y):\n",
    "    model = DecisionTreeRegressor(max_leaf_nodes=max_leaf_nodes, random_state=0)\n",
    "    model.fit(train_X, train_y)\n",
    "    preds_val = model.predict(val_X)\n",
    "    mae = mean_absolute_error(val_y, preds_val)\n",
    "    return(mae)"
   ]
  },
  {
   "cell_type": "code",
   "execution_count": 77,
   "metadata": {},
   "outputs": [
    {
     "name": "stdout",
     "output_type": "stream",
     "text": [
      "Max leaf nodes: 5  \t\t Mean Absolute Error:  2021141\n",
      "Max leaf nodes: 50  \t\t Mean Absolute Error:  2002777\n",
      "Max leaf nodes: 500  \t\t Mean Absolute Error:  2002777\n",
      "Max leaf nodes: 5000  \t\t Mean Absolute Error:  2002777\n"
     ]
    }
   ],
   "source": [
    "# compare MAE with differing values of max_leaf_nodes\n",
    "candidate_max_leaf_nodes = [5, 25, 50, 100, 250, 500]\n",
    "\n",
    "for max_leaf_nodes in [5, 50, 500, 5000]:\n",
    "    my_mae = get_mae(max_leaf_nodes, train_X, val_X, train_y, val_y)\n",
    "    print(\"Max leaf nodes: %d  \\t\\t Mean Absolute Error:  %d\" %(max_leaf_nodes, my_mae))"
   ]
  },
  {
   "cell_type": "code",
   "execution_count": 78,
   "metadata": {},
   "outputs": [],
   "source": [
    "scores = {leaf_size: get_mae(leaf_size, train_X, val_X, train_y, val_y) for leaf_size in candidate_max_leaf_nodes}\n",
    "best_tree_size = min(scores, key=scores.get)"
   ]
  },
  {
   "cell_type": "code",
   "execution_count": 79,
   "metadata": {},
   "outputs": [],
   "source": [
    "# Fit the model with best_tree_size. Fill in argument to make optimal size\n",
    "final_model = DecisionTreeRegressor(max_leaf_nodes=best_tree_size, random_state=1)"
   ]
  },
  {
   "cell_type": "code",
   "execution_count": 80,
   "metadata": {},
   "outputs": [
    {
     "data": {
      "text/plain": [
       "DecisionTreeRegressor(criterion='mse', max_depth=None, max_features=None,\n",
       "           max_leaf_nodes=25, min_impurity_decrease=0.0,\n",
       "           min_impurity_split=None, min_samples_leaf=1,\n",
       "           min_samples_split=2, min_weight_fraction_leaf=0.0,\n",
       "           presort=False, random_state=1, splitter='best')"
      ]
     },
     "execution_count": 80,
     "metadata": {},
     "output_type": "execute_result"
    }
   ],
   "source": [
    "# fit the final model\n",
    "final_model.fit(X, y)"
   ]
  },
  {
   "cell_type": "code",
   "execution_count": 82,
   "metadata": {},
   "outputs": [
    {
     "name": "stdout",
     "output_type": "stream",
     "text": [
      "21759.259259259226\n"
     ]
    }
   ],
   "source": [
    "# get predicted prices on validation data\n",
    "val_predictions = final_model.predict(val_X)\n",
    "print(mean_absolute_error(val_y, val_predictions))"
   ]
  },
  {
   "cell_type": "code",
   "execution_count": 84,
   "metadata": {},
   "outputs": [
    {
     "name": "stdout",
     "output_type": "stream",
     "text": [
      "1790555.5555555555\n"
     ]
    }
   ],
   "source": [
    "# Random Forest time\n",
    "from sklearn.ensemble import RandomForestRegressor\n",
    "from sklearn.metrics import mean_absolute_error\n",
    "\n",
    "forest_model = RandomForestRegressor(random_state=1)\n",
    "forest_model.fit(train_X, train_y)\n",
    "nhl_preds = forest_model.predict(val_X)\n",
    "print(mean_absolute_error(val_y, nhl_preds))"
   ]
  },
  {
   "cell_type": "code",
   "execution_count": 86,
   "metadata": {},
   "outputs": [],
   "source": [
    "# 2.1 Handling Missing Values - Drop Columns with Missing Values\n",
    "\n",
    "nhl_target = nhl_data.Salary\n",
    "nhl_predictors = nhl_data.drop(['Salary'], axis=1)\n",
    "\n",
    "# For the sake of keeping the example simple, we'll use only numeric predictors. \n",
    "nhl_numeric_predictors = nhl_predictors.select_dtypes(exclude=['object'])\n"
   ]
  },
  {
   "cell_type": "code",
   "execution_count": 92,
   "metadata": {},
   "outputs": [],
   "source": [
    "X_train, X_test, y_train, y_test = train_test_split(nhl_numeric_predictors, \n",
    "                                                    nhl_target,\n",
    "                                                    train_size=0.7, \n",
    "                                                    test_size=0.3, \n",
    "                                                    random_state=0)\n",
    "\n",
    "def score_dataset(X_train, X_test, y_train, y_test):\n",
    "    model = RandomForestRegressor()\n",
    "    model.fit(X_train, y_train)\n",
    "    preds = model.predict(X_test)\n",
    "    return mean_absolute_error(y_test, preds)"
   ]
  },
  {
   "cell_type": "code",
   "execution_count": 93,
   "metadata": {},
   "outputs": [
    {
     "name": "stdout",
     "output_type": "stream",
     "text": [
      "Mean Absolute Error from dropping columns with Missing Values:\n",
      "1874545.4545454546\n"
     ]
    }
   ],
   "source": [
    "cols_with_missing = [col for col in X_train.columns \n",
    "                                 if X_train[col].isnull().any()]\n",
    "reduced_X_train = X_train.drop(cols_with_missing, axis=1)\n",
    "reduced_X_test  = X_test.drop(cols_with_missing, axis=1)\n",
    "print(\"Mean Absolute Error from dropping columns with Missing Values:\")\n",
    "print(score_dataset(reduced_X_train, reduced_X_test, y_train, y_test))"
   ]
  },
  {
   "cell_type": "code",
   "execution_count": 96,
   "metadata": {},
   "outputs": [
    {
     "name": "stdout",
     "output_type": "stream",
     "text": [
      "Mean Absolute Error from Imputation:\n",
      "1986136.3636363635\n"
     ]
    }
   ],
   "source": [
    "# 2.1 Imputation\n",
    "\n",
    "from sklearn.preprocessing.imputation import Imputer\n",
    "\n",
    "my_imputer = Imputer()\n",
    "imputed_X_train = my_imputer.fit_transform(X_train)\n",
    "imputed_X_test = my_imputer.transform(X_test)\n",
    "print(\"Mean Absolute Error from Imputation:\")\n",
    "print(score_dataset(imputed_X_train, imputed_X_test, y_train, y_test))"
   ]
  },
  {
   "cell_type": "code",
   "execution_count": 97,
   "metadata": {},
   "outputs": [
    {
     "name": "stdout",
     "output_type": "stream",
     "text": [
      "Mean Absolute Error from Imputation while Track What Was Imputed:\n",
      "2241818.1818181816\n"
     ]
    }
   ],
   "source": [
    "imputed_X_train_plus = X_train.copy()\n",
    "imputed_X_test_plus = X_test.copy()\n",
    "\n",
    "cols_with_missing = (col for col in X_train.columns \n",
    "                                 if X_train[col].isnull().any())\n",
    "for col in cols_with_missing:\n",
    "    imputed_X_train_plus[col + '_was_missing'] = imputed_X_train_plus[col].isnull()\n",
    "    imputed_X_test_plus[col + '_was_missing'] = imputed_X_test_plus[col].isnull()\n",
    "\n",
    "# Imputation\n",
    "my_imputer = Imputer()\n",
    "imputed_X_train_plus = my_imputer.fit_transform(imputed_X_train_plus)\n",
    "imputed_X_test_plus = my_imputer.transform(imputed_X_test_plus)\n",
    "\n",
    "print(\"Mean Absolute Error from Imputation while Track What Was Imputed:\")\n",
    "print(score_dataset(imputed_X_train_plus, imputed_X_test_plus, y_train, y_test))"
   ]
  },
  {
   "cell_type": "code",
   "execution_count": null,
   "metadata": {},
   "outputs": [],
   "source": [
    "# One hot encoding - not being used - just for non numerical data?\n",
    "\n",
    "# XG Boost\n",
    "\n"
   ]
  }
 ],
 "metadata": {
  "kernelspec": {
   "display_name": "Python 3",
   "language": "python",
   "name": "python3"
  },
  "language_info": {
   "codemirror_mode": {
    "name": "ipython",
    "version": 3
   },
   "file_extension": ".py",
   "mimetype": "text/x-python",
   "name": "python",
   "nbconvert_exporter": "python",
   "pygments_lexer": "ipython3",
   "version": "3.7.0"
  }
 },
 "nbformat": 4,
 "nbformat_minor": 2
}
